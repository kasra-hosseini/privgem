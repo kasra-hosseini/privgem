{
 "cells": [
  {
   "cell_type": "markdown",
   "metadata": {},
   "source": [
    "# Example: DP-CTGAN and tabular data\n",
    "\n",
    "**IMPORTANT:** refer to the [README](\"https://github.com/kasra-hosseini/privgem#credits\") for credits."
   ]
  },
  {
   "cell_type": "code",
   "execution_count": null,
   "metadata": {},
   "outputs": [],
   "source": [
    "# solve issue with autocomplete\n",
    "%config Completer.use_jedi = False\n",
    "\n",
    "%load_ext autoreload\n",
    "%autoreload 2\n",
    "%matplotlib inline\n",
    "\n",
    "from warnings import simplefilter\n",
    "# ignore all future warnings\n",
    "simplefilter(action='ignore', category=FutureWarning)"
   ]
  },
  {
   "cell_type": "code",
   "execution_count": null,
   "metadata": {},
   "outputs": [],
   "source": [
    "import os\n",
    "import pandas as pd\n",
    "import sys"
   ]
  },
  {
   "cell_type": "markdown",
   "metadata": {},
   "source": [
    "## Load a tabular data"
   ]
  },
  {
   "cell_type": "code",
   "execution_count": null,
   "metadata": {},
   "outputs": [],
   "source": [
    "from ctgan import load_demo\n",
    "\n",
    "data = load_demo()\n",
    "data.head()"
   ]
  },
  {
   "cell_type": "markdown",
   "metadata": {},
   "source": [
    "### Name of the columns that are discrete"
   ]
  },
  {
   "cell_type": "code",
   "execution_count": null,
   "metadata": {},
   "outputs": [],
   "source": [
    "discrete_columns = [\n",
    "    'workclass',\n",
    "    'education',\n",
    "    'marital-status',\n",
    "    'occupation',\n",
    "    'relationship',\n",
    "    'race',\n",
    "    'sex',\n",
    "    'native-country',\n",
    "    'income']"
   ]
  },
  {
   "cell_type": "markdown",
   "metadata": {},
   "source": [
    "## Synthesize using DP-CTGAN"
   ]
  },
  {
   "cell_type": "markdown",
   "metadata": {},
   "source": [
    "### Split the data into train/test"
   ]
  },
  {
   "cell_type": "code",
   "execution_count": null,
   "metadata": {},
   "outputs": [],
   "source": [
    "from privgem import tabular_utils\n",
    "\n",
    "path_save=\"./test_dpctgan/orig_data/orig_data.csv\"\n",
    "path_train=\"./test_dpctgan/orig_data/orig_train.csv\"\n",
    "path_test=\"./test_dpctgan/orig_data/orig_test.csv\"\n",
    "\n",
    "tabular_utils.split_save_orig_data(data,\n",
    "                                   path_save=path_save,\n",
    "                                   path_train=path_train,\n",
    "                                   path_test=path_test,\n",
    "                                   label_col=\"income\",\n",
    "                                   test_size=0.25,\n",
    "                                   random_state=42)"
   ]
  },
  {
   "cell_type": "markdown",
   "metadata": {},
   "source": [
    "### Instantiate a tabular_dpctgan object"
   ]
  },
  {
   "cell_type": "code",
   "execution_count": null,
   "metadata": {},
   "outputs": [],
   "source": [
    "from privgem import tabular_dpctgan\n",
    "\n",
    "# inputs\n",
    "epsilon = 1\n",
    "sigma = 5\n",
    "batch_size = 64\n",
    "# default: 300\n",
    "epochs = 10\n",
    "output_save_path = \"./test_dpctgan/dpctgan_training.csv\"\n",
    "device = \"cuda:0\" # or \"default\" or \"cpu\" or \"cuda:1\"\n",
    "\n",
    "dp_model = tabular_dpctgan(verbose=True, \n",
    "                           epsilon=epsilon, \n",
    "                           batch_size=batch_size, \n",
    "                           sigma=sigma,\n",
    "                           secure_rng=False,\n",
    "                           epochs=epochs,\n",
    "                           output_save_path=output_save_path,\n",
    "                           device=device)"
   ]
  },
  {
   "cell_type": "markdown",
   "metadata": {},
   "source": [
    "### train a new model\n",
    "\n",
    "Note that this can take a long time (depends on the hyperparams)"
   ]
  },
  {
   "cell_type": "code",
   "execution_count": null,
   "metadata": {
    "scrolled": true
   },
   "outputs": [],
   "source": [
    "dp_model.train(data, discrete_columns)"
   ]
  },
  {
   "cell_type": "markdown",
   "metadata": {},
   "source": [
    "### Plot the training log file"
   ]
  },
  {
   "cell_type": "code",
   "execution_count": null,
   "metadata": {},
   "outputs": [],
   "source": [
    "from privgem import tabular_utils\n",
    "\n",
    "tabular_utils.plot_log_dpctgan(filename=\"./test_dpctgan/dpctgan_training.csv\")"
   ]
  },
  {
   "cell_type": "markdown",
   "metadata": {},
   "source": [
    "### sample and save the output"
   ]
  },
  {
   "cell_type": "code",
   "execution_count": null,
   "metadata": {
    "scrolled": true
   },
   "outputs": [],
   "source": [
    "synth_output = dp_model.sample(len(data))\n",
    "\n",
    "path2synth_file = \"./test_dpctgan/dpctgan_001/synthetic_output.csv\"\n",
    "os.makedirs(os.path.dirname(path2synth_file), exist_ok=True)\n",
    "synth_output.to_csv(path2synth_file, index=False)\n",
    "\n",
    "synth_output"
   ]
  },
  {
   "cell_type": "code",
   "execution_count": null,
   "metadata": {},
   "outputs": [],
   "source": []
  }
 ],
 "metadata": {
  "kernelspec": {
   "display_name": "Python (privgem_py38)",
   "language": "python",
   "name": "privgem_py38"
  },
  "language_info": {
   "codemirror_mode": {
    "name": "ipython",
    "version": 3
   },
   "file_extension": ".py",
   "mimetype": "text/x-python",
   "name": "python",
   "nbconvert_exporter": "python",
   "pygments_lexer": "ipython3",
   "version": "3.8.8"
  }
 },
 "nbformat": 4,
 "nbformat_minor": 2
}
