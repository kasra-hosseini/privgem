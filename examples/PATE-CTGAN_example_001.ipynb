{
 "cells": [
  {
   "cell_type": "markdown",
   "metadata": {},
   "source": [
    "# Example: PATE-CTGAN and tabular data"
   ]
  },
  {
   "cell_type": "code",
   "execution_count": null,
   "metadata": {},
   "outputs": [],
   "source": [
    "# solve issue with autocomplete\n",
    "%config Completer.use_jedi = False\n",
    "\n",
    "%load_ext autoreload\n",
    "%autoreload 2\n",
    "%matplotlib inline"
   ]
  },
  {
   "cell_type": "code",
   "execution_count": null,
   "metadata": {},
   "outputs": [],
   "source": [
    "from warnings import simplefilter\n",
    "# ignore all future warnings\n",
    "simplefilter(action='ignore', category=FutureWarning)"
   ]
  },
  {
   "cell_type": "code",
   "execution_count": null,
   "metadata": {},
   "outputs": [],
   "source": [
    "import os\n",
    "import pandas as pd\n",
    "from pathlib import Path\n",
    "import sys\n",
    "\n",
    "from sklearn.model_selection import train_test_split"
   ]
  },
  {
   "cell_type": "markdown",
   "metadata": {},
   "source": [
    "### Load a dataset"
   ]
  },
  {
   "cell_type": "code",
   "execution_count": null,
   "metadata": {},
   "outputs": [],
   "source": [
    "from ctgan import load_demo\n",
    "\n",
    "data = load_demo()\n",
    "\n",
    "# Names of the columns that are discrete\n",
    "discrete_columns = [\n",
    "    'workclass',\n",
    "    'education',\n",
    "    'marital-status',\n",
    "    'occupation',\n",
    "    'relationship',\n",
    "    'race',\n",
    "    'sex',\n",
    "    'native-country',\n",
    "    'income'\n",
    "]"
   ]
  },
  {
   "cell_type": "markdown",
   "metadata": {},
   "source": [
    "## Synthesize using PATE-CTGAN"
   ]
  },
  {
   "cell_type": "code",
   "execution_count": null,
   "metadata": {},
   "outputs": [],
   "source": [
    "from privgem import tabular_patectgan"
   ]
  },
  {
   "cell_type": "code",
   "execution_count": null,
   "metadata": {},
   "outputs": [],
   "source": [
    "# inputs\n",
    "par_dir_name = \"test\"\n",
    "batch_size = 64\n",
    "epsilon = 2\n",
    "noise_multiplier = 0.002\n",
    "moments_order = 1000"
   ]
  },
  {
   "cell_type": "code",
   "execution_count": null,
   "metadata": {},
   "outputs": [],
   "source": [
    "if not os.path.isdir(os.path.join(f\"{par_dir_name}\", \"orig_data\")):\n",
    "    Path(f\"{par_dir_name}/orig_data\").mkdir(parents=True, exist_ok=True)\n",
    "    data.to_csv(os.path.join(par_dir_name, \"orig_data\", \"orig_data.csv\"), index=False)\n",
    "    adult_data_train, adult_data_test = train_test_split(data, test_size=0.25, random_state=42, stratify=data[\"income\"])\n",
    "    adult_data_train.to_csv(os.path.join(par_dir_name, \"orig_data\", 'orig_train.csv'), index=False)\n",
    "    adult_data_test.to_csv(os.path.join(par_dir_name, \"orig_data\", 'orig_test.csv'), index=False)\n",
    "\n",
    "with open(f\"{par_dir_name}/patectgan_training.csv\", \"w\") as fio:\n",
    "    fio.writelines(f\"PATE-CTGAN, epsilon: {epsilon}, noise_multiplier: {noise_multiplier}, moments order: {moments_order}, batch_size: {batch_size}\\n\")"
   ]
  },
  {
   "cell_type": "code",
   "execution_count": null,
   "metadata": {},
   "outputs": [],
   "source": [
    "pate_model = tabular_patectgan(verbose=True, \n",
    "                               epsilon=epsilon, \n",
    "                               batch_size=batch_size, \n",
    "                               noise_multiplier=noise_multiplier, \n",
    "                               moments_order=moments_order, \n",
    "                               output_save_path=f\"{par_dir_name}/patectgan_training.csv\")"
   ]
  },
  {
   "cell_type": "code",
   "execution_count": null,
   "metadata": {},
   "outputs": [],
   "source": [
    "pate_model.train(data, discrete_columns)"
   ]
  },
  {
   "cell_type": "code",
   "execution_count": null,
   "metadata": {},
   "outputs": [],
   "source": [
    "synth_output = pate_model.sample(len(data))\n",
    "synth_output\n",
    "#Path(f\"{par_dir_name}/pate_ensemble_{i_inp:05d}\").mkdir(parents=True, exist_ok=True)\n",
    "#synth_output.to_csv(os.path.join(par_dir_name, \"synthetic_output.csv\"), index=False)"
   ]
  },
  {
   "cell_type": "code",
   "execution_count": null,
   "metadata": {},
   "outputs": [],
   "source": []
  }
 ],
 "metadata": {
  "kernelspec": {
   "display_name": "Python (privgem_py38)",
   "language": "python",
   "name": "privgem_py38"
  },
  "language_info": {
   "codemirror_mode": {
    "name": "ipython",
    "version": 3
   },
   "file_extension": ".py",
   "mimetype": "text/x-python",
   "name": "python",
   "nbconvert_exporter": "python",
   "pygments_lexer": "ipython3",
   "version": "3.8.8"
  }
 },
 "nbformat": 4,
 "nbformat_minor": 2
}
